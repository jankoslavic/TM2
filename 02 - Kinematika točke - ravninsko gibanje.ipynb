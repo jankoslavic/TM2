{
 "cells": [
  {
   "cell_type": "markdown",
   "metadata": {
    "slideshow": {
     "slide_type": "slide"
    }
   },
   "source": [
    "# Kinematika točke - ravninsko gibanje\n",
    "Prof. dr. Janko Slavič, Univerza v Ljubljani, Fakulteta za strojništvo"
   ]
  },
  {
   "cell_type": "code",
   "execution_count": 1,
   "metadata": {},
   "outputs": [],
   "source": [
    "import numpy as np\n",
    "import matplotlib.pyplot as plt\n",
    "import sympy as sym\n",
    "#sym.init_printing()\n",
    "from sympy.physics.mechanics import init_vprinting\n",
    "init_vprinting()"
   ]
  },
  {
   "cell_type": "markdown",
   "metadata": {},
   "source": [
    "Če uporabite Google Colab, potem odkomentirajte (odstranite #) spodnje vrstice in jih sprožite:"
   ]
  },
  {
   "cell_type": "code",
   "execution_count": 2,
   "metadata": {},
   "outputs": [],
   "source": [
    "#def custom_latex_printer(exp,**options):\n",
    "#    from google.colab.output._publish import javascript\n",
    "#    url = \"https://cdnjs.cloudflare.com/ajax/libs/mathjax/2.7.3/latest.js?config=default\"\n",
    "#    javascript(url=url)\n",
    "#    return sym.printing.latex(exp,**options)\n",
    "#sym.init_printing(use_latex=\"mathjax\",latex_printer=custom_latex_printer)"
   ]
  },
  {
   "cell_type": "markdown",
   "metadata": {
    "slideshow": {
     "slide_type": "slide"
    }
   },
   "source": [
    "## Pravokotni koordinatni sistem"
   ]
  },
  {
   "cell_type": "markdown",
   "metadata": {},
   "source": [
    "Definiranje simbolov za enotske vektorje in spremenljivko časa:"
   ]
  },
  {
   "cell_type": "code",
   "execution_count": 3,
   "metadata": {},
   "outputs": [],
   "source": [
    "i, j, t = sym.symbols('i, j, t')"
   ]
  },
  {
   "cell_type": "markdown",
   "metadata": {},
   "source": [
    "Definirajmo koordinate (so lahko funkcije časa):"
   ]
  },
  {
   "cell_type": "code",
   "execution_count": 4,
   "metadata": {},
   "outputs": [],
   "source": [
    "x = sym.Function('x')\n",
    "y = sym.Function('y')"
   ]
  },
  {
   "cell_type": "markdown",
   "metadata": {
    "slideshow": {
     "slide_type": "subslide"
    }
   },
   "source": [
    "Krajevni vektor:"
   ]
  },
  {
   "cell_type": "code",
   "execution_count": 5,
   "metadata": {},
   "outputs": [],
   "source": [
    "r = x(t)*i + y(t)*j"
   ]
  },
  {
   "cell_type": "markdown",
   "metadata": {},
   "source": [
    "Hitrost:"
   ]
  },
  {
   "cell_type": "code",
   "execution_count": 6,
   "metadata": {},
   "outputs": [
    {
     "data": {
      "image/png": "[encoded data removed]",
      "text/latex": [
       "$\\displaystyle i \\dot{x} + j \\dot{y}$"
      ],
      "text/plain": [
       "i⋅ẋ + j⋅ẏ"
      ]
     },
     "execution_count": 6,
     "metadata": {},
     "output_type": "execute_result"
    }
   ],
   "source": [
    "r.diff(t)"
   ]
  },
  {
   "cell_type": "markdown",
   "metadata": {},
   "source": [
    "Pospešek:"
   ]
  },
  {
   "cell_type": "code",
   "execution_count": 7,
   "metadata": {},
   "outputs": [
    {
     "data": {
      "image/png": "[encoded data removed]",
      "text/latex": [
       "$\\displaystyle i \\ddot{x} + j \\ddot{y}$"
      ],
      "text/plain": [
       "i⋅ẍ + j⋅ÿ"
      ]
     },
     "execution_count": 7,
     "metadata": {},
     "output_type": "execute_result"
    }
   ],
   "source": [
    "r.diff(t, 2)"
   ]
  },
  {
   "cell_type": "markdown",
   "metadata": {
    "slideshow": {
     "slide_type": "slide"
    }
   },
   "source": [
    "## Naravni koordinatni sistem"
   ]
  },
  {
   "cell_type": "markdown",
   "metadata": {},
   "source": [
    "Definiranje simbolov za enotske vektorje (ki so lahko funkcije časa) in hitrosti (tudi lahko funkcija časa):"
   ]
  },
  {
   "cell_type": "code",
   "execution_count": 8,
   "metadata": {},
   "outputs": [],
   "source": [
    "e_t = sym.Function('e_t')\n",
    "e_n = sym.Function('e_n')"
   ]
  },
  {
   "cell_type": "code",
   "execution_count": 9,
   "metadata": {},
   "outputs": [],
   "source": [
    "v = sym.Function('v')"
   ]
  },
  {
   "cell_type": "markdown",
   "metadata": {
    "slideshow": {
     "slide_type": "subslide"
    }
   },
   "source": [
    "Vektor hitrosti:"
   ]
  },
  {
   "cell_type": "code",
   "execution_count": 10,
   "metadata": {},
   "outputs": [
    {
     "data": {
      "image/png": "[encoded data removed]",
      "text/latex": [
       "$\\displaystyle e_{t} v$"
      ],
      "text/plain": [
       "eₜ⋅v"
      ]
     },
     "execution_count": 10,
     "metadata": {},
     "output_type": "execute_result"
    }
   ],
   "source": [
    "vv = v(t)*e_t(t)\n",
    "vv"
   ]
  },
  {
   "cell_type": "markdown",
   "metadata": {
    "slideshow": {
     "slide_type": "subslide"
    }
   },
   "source": [
    "Vektor pospeška:"
   ]
  },
  {
   "cell_type": "code",
   "execution_count": 11,
   "metadata": {},
   "outputs": [
    {
     "data": {
      "image/png": "[encoded data removed]",
      "text/latex": [
       "$\\displaystyle e_{t} \\dot{v} + v \\dot{e}_{t}$"
      ],
      "text/plain": [
       "eₜ⋅v̇ + v⋅eₜ̇"
      ]
     },
     "execution_count": 11,
     "metadata": {},
     "output_type": "execute_result"
    }
   ],
   "source": [
    "vv.diff(t)"
   ]
  },
  {
   "cell_type": "code",
   "execution_count": 12,
   "metadata": {},
   "outputs": [
    {
     "data": {
      "image/png": "[encoded data removed]",
      "text/latex": [
       "$\\displaystyle e_{t} \\dot{v} + v \\dot{e}_{t}$"
      ],
      "text/plain": [
       "eₜ⋅v̇ + v⋅eₜ̇"
      ]
     },
     "execution_count": 12,
     "metadata": {},
     "output_type": "execute_result"
    }
   ],
   "source": [
    "a = vv.diff(t)\n",
    "a"
   ]
  },
  {
   "cell_type": "markdown",
   "metadata": {
    "slideshow": {
     "slide_type": "subslide"
    }
   },
   "source": [
    "Zapis v obliki z normalni vektorjem in polmerom:"
   ]
  },
  {
   "cell_type": "code",
   "execution_count": 13,
   "metadata": {},
   "outputs": [],
   "source": [
    "R = sym.symbols('R')"
   ]
  },
  {
   "cell_type": "code",
   "execution_count": 14,
   "metadata": {},
   "outputs": [
    {
     "data": {
      "image/png": "[encoded data removed]",
      "text/latex": [
       "$\\displaystyle e_{t} \\dot{v} + \\frac{e_{n} v^{2}}{R}$"
      ],
      "text/plain": [
       "            2\n",
       "        eₙ⋅v \n",
       "eₜ⋅v̇ + ─────\n",
       "          R  "
      ]
     },
     "execution_count": 14,
     "metadata": {},
     "output_type": "execute_result"
    }
   ],
   "source": [
    "a = a.subs(e_t(t).diff(t), v(t)*e_n(t)/R)\n",
    "a"
   ]
  },
  {
   "cell_type": "markdown",
   "metadata": {},
   "source": [
    "Po komponentah:"
   ]
  },
  {
   "cell_type": "code",
   "execution_count": 15,
   "metadata": {},
   "outputs": [
    {
     "data": {
      "image/png": "[encoded data removed]",
      "text/latex": [
       "$\\displaystyle \\dot{v}$"
      ],
      "text/plain": [
       "v̇"
      ]
     },
     "execution_count": 15,
     "metadata": {},
     "output_type": "execute_result"
    }
   ],
   "source": [
    "a_t = a.coeff(e_t(t))\n",
    "a_t"
   ]
  },
  {
   "cell_type": "code",
   "execution_count": 16,
   "metadata": {},
   "outputs": [
    {
     "data": {
      "image/png": "[encoded data removed]",
      "text/latex": [
       "$\\displaystyle \\frac{v^{2}}{R}$"
      ],
      "text/plain": [
       " 2\n",
       "v \n",
       "──\n",
       "R "
      ]
     },
     "execution_count": 16,
     "metadata": {},
     "output_type": "execute_result"
    }
   ],
   "source": [
    "a_n = a.coeff(e_n(t))\n",
    "a_n"
   ]
  },
  {
   "cell_type": "markdown",
   "metadata": {
    "slideshow": {
     "slide_type": "slide"
    }
   },
   "source": [
    "## Polarni koordinatni sistem"
   ]
  },
  {
   "cell_type": "markdown",
   "metadata": {},
   "source": [
    "Definiranje simbolov za enotske vektorje (ki so lahko funkcije časa):"
   ]
  },
  {
   "cell_type": "code",
   "execution_count": 17,
   "metadata": {},
   "outputs": [],
   "source": [
    "e_r = sym.Function('e_r')\n",
    "e_ϕ = sym.Function('e_varphi')"
   ]
  },
  {
   "cell_type": "markdown",
   "metadata": {
    "slideshow": {
     "slide_type": "subslide"
    }
   },
   "source": [
    "Krajevni vektor:"
   ]
  },
  {
   "cell_type": "code",
   "execution_count": 18,
   "metadata": {},
   "outputs": [
    {
     "data": {
      "image/png": "[encoded data removed]",
      "text/latex": [
       "$\\displaystyle e_{r} r$"
      ],
      "text/plain": [
       "eᵣ⋅r"
      ]
     },
     "execution_count": 18,
     "metadata": {},
     "output_type": "execute_result"
    }
   ],
   "source": [
    "r = sym.Function('r') # razdalja od koordinatnega izhodišča, v splošnem časovno odvisna\n",
    "R = r(t)*e_r(t)\n",
    "R"
   ]
  },
  {
   "cell_type": "markdown",
   "metadata": {
    "slideshow": {
     "slide_type": "subslide"
    }
   },
   "source": [
    "Hitrost:"
   ]
  },
  {
   "cell_type": "code",
   "execution_count": 19,
   "metadata": {},
   "outputs": [
    {
     "data": {
      "image/png": "[encoded data removed]",
      "text/latex": [
       "$\\displaystyle e_{r} \\dot{r} + r \\dot{e}_{r}$"
      ],
      "text/plain": [
       "eᵣ⋅ṙ + r⋅eᵣ̇"
      ]
     },
     "execution_count": 19,
     "metadata": {},
     "output_type": "execute_result"
    }
   ],
   "source": [
    "v = R.diff(t)\n",
    "v"
   ]
  },
  {
   "cell_type": "markdown",
   "metadata": {
    "slideshow": {
     "slide_type": "subslide"
    }
   },
   "source": [
    "Zapis v obliki s krožnim vektorjem:"
   ]
  },
  {
   "cell_type": "code",
   "execution_count": 20,
   "metadata": {},
   "outputs": [
    {
     "data": {
      "image/png": "[encoded data removed]",
      "text/latex": [
       "$\\displaystyle \\left\\{ \\dot{e}_{r} : e_{\\varphi} \\dot{\\varphi}, \\  \\dot{e}_{\\varphi} : - e_{r} \\dot{\\varphi}\\right\\}$"
      ],
      "text/plain": [
       "{eᵣ̇: eᵥₐᵣₚₕᵢ⋅varṗhi, eᵥₐᵣ̇ₚₕᵢ: -eᵣ⋅varṗhi}"
      ]
     },
     "execution_count": 20,
     "metadata": {},
     "output_type": "execute_result"
    }
   ],
   "source": [
    "ϕ = sym.Function('varphi')\n",
    "zamenjave = {e_r(t).diff(t): ϕ(t).diff(t)*e_ϕ(t), \n",
    "             e_ϕ(t).diff(t):-ϕ(t).diff(t)*e_r(t)}\n",
    "zamenjave"
   ]
  },
  {
   "cell_type": "code",
   "execution_count": 21,
   "metadata": {},
   "outputs": [
    {
     "data": {
      "image/png": "[encoded data removed]",
      "text/latex": [
       "$\\displaystyle e_{r} \\dot{r} + e_{\\varphi} r \\dot{\\varphi}$"
      ],
      "text/plain": [
       "eᵣ⋅ṙ + eᵥₐᵣₚₕᵢ⋅r⋅varṗhi"
      ]
     },
     "execution_count": 21,
     "metadata": {},
     "output_type": "execute_result"
    }
   ],
   "source": [
    "v = v.subs(zamenjave)\n",
    "v"
   ]
  },
  {
   "cell_type": "markdown",
   "metadata": {
    "slideshow": {
     "slide_type": "subslide"
    }
   },
   "source": [
    "Po komponentah:"
   ]
  },
  {
   "cell_type": "code",
   "execution_count": 22,
   "metadata": {},
   "outputs": [
    {
     "data": {
      "image/png": "[encoded data removed]",
      "text/latex": [
       "$\\displaystyle \\dot{r}$"
      ],
      "text/plain": [
       "ṙ"
      ]
     },
     "execution_count": 22,
     "metadata": {},
     "output_type": "execute_result"
    }
   ],
   "source": [
    "v_r = v.coeff(e_r(t))\n",
    "v_r"
   ]
  },
  {
   "cell_type": "code",
   "execution_count": 23,
   "metadata": {},
   "outputs": [
    {
     "data": {
      "image/png": "[encoded data removed]",
      "text/latex": [
       "$\\displaystyle r \\dot{\\varphi}$"
      ],
      "text/plain": [
       "r⋅varṗhi"
      ]
     },
     "execution_count": 23,
     "metadata": {},
     "output_type": "execute_result"
    }
   ],
   "source": [
    "v_ϕ = v.coeff(e_ϕ(t))\n",
    "v_ϕ"
   ]
  },
  {
   "cell_type": "markdown",
   "metadata": {
    "slideshow": {
     "slide_type": "subslide"
    }
   },
   "source": [
    "Pospešek:"
   ]
  },
  {
   "cell_type": "code",
   "execution_count": 24,
   "metadata": {},
   "outputs": [
    {
     "data": {
      "image/png": "[encoded data removed]",
      "text/latex": [
       "$\\displaystyle e_{r} \\ddot{r} + e_{\\varphi} r \\ddot{\\varphi} + e_{\\varphi} \\dot{r} \\dot{\\varphi} + r \\dot{e}_{\\varphi} \\dot{\\varphi} + \\dot{e}_{r} \\dot{r}$"
      ],
      "text/plain": [
       "eᵣ⋅r̈ + eᵥₐᵣₚₕᵢ⋅r⋅varp̈hi + eᵥₐᵣₚₕᵢ⋅ṙ⋅varṗhi + r⋅eᵥₐᵣ̇ₚₕᵢ⋅varṗhi + eᵣ̇⋅ṙ"
      ]
     },
     "execution_count": 24,
     "metadata": {},
     "output_type": "execute_result"
    }
   ],
   "source": [
    "a = v.diff(t)\n",
    "a"
   ]
  },
  {
   "cell_type": "markdown",
   "metadata": {
    "slideshow": {
     "slide_type": "subslide"
    }
   },
   "source": [
    "Zapis v obliki s krožnim vektorjem:"
   ]
  },
  {
   "cell_type": "code",
   "execution_count": 25,
   "metadata": {},
   "outputs": [
    {
     "data": {
      "image/png": "[encoded data removed]",
      "text/latex": [
       "$\\displaystyle - e_{r} r \\dot{\\varphi}^{2} + e_{r} \\ddot{r} + e_{\\varphi} r \\ddot{\\varphi} + 2 e_{\\varphi} \\dot{r} \\dot{\\varphi}$"
      ],
      "text/plain": [
       "              2                                                   \n",
       "- eᵣ⋅r⋅varṗhi  + eᵣ⋅r̈ + eᵥₐᵣₚₕᵢ⋅r⋅varp̈hi + 2⋅eᵥₐᵣₚₕᵢ⋅ṙ⋅varṗhi"
      ]
     },
     "execution_count": 25,
     "metadata": {},
     "output_type": "execute_result"
    }
   ],
   "source": [
    "a = a.subs(zamenjave)\n",
    "a"
   ]
  },
  {
   "cell_type": "markdown",
   "metadata": {
    "slideshow": {
     "slide_type": "subslide"
    }
   },
   "source": [
    "Po komponentah:"
   ]
  },
  {
   "cell_type": "code",
   "execution_count": 26,
   "metadata": {},
   "outputs": [
    {
     "data": {
      "image/png": "[encoded data removed]",
      "text/latex": [
       "$\\displaystyle - r \\dot{\\varphi}^{2} + \\ddot{r}$"
      ],
      "text/plain": [
       "           2     \n",
       "- r⋅varṗhi  + r̈"
      ]
     },
     "execution_count": 26,
     "metadata": {},
     "output_type": "execute_result"
    }
   ],
   "source": [
    "a_r = a.coeff(e_r(t))\n",
    "a_r"
   ]
  },
  {
   "cell_type": "code",
   "execution_count": 27,
   "metadata": {},
   "outputs": [
    {
     "data": {
      "image/png": "[encoded data removed]",
      "text/latex": [
       "$\\displaystyle r \\ddot{\\varphi} + 2 \\dot{r} \\dot{\\varphi}$"
      ],
      "text/plain": [
       "r⋅varp̈hi + 2⋅ṙ⋅varṗhi"
      ]
     },
     "execution_count": 27,
     "metadata": {},
     "output_type": "execute_result"
    }
   ],
   "source": [
    "a_ϕ = a.coeff(e_ϕ(t))\n",
    "a_ϕ"
   ]
  }
 ],
 "metadata": {
  "celltoolbar": "Slideshow",
  "kernelspec": {
   "display_name": "Python 3",
   "language": "python",
   "name": "python3"
  },
  "language_info": {
   "codemirror_mode": {
    "name": "ipython",
    "version": 3
   },
   "file_extension": ".py",
   "mimetype": "text/x-python",
   "name": "python",
   "nbconvert_exporter": "python",
   "pygments_lexer": "ipython3",
   "version": "3.6.9"
  },
  "toc": {
   "base_numbering": 1,
   "nav_menu": {},
   "number_sections": true,
   "sideBar": true,
   "skip_h1_title": false,
   "title_cell": "Kazalo",
   "title_sidebar": "Kazalo",
   "toc_cell": false,
   "toc_position": {},
   "toc_section_display": true,
   "toc_window_display": false
  }
 },
 "nbformat": 4,
 "nbformat_minor": 2
}
