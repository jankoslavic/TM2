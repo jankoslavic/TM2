{
 "cells": [
  {
   "cell_type": "markdown",
   "metadata": {
    "slideshow": {
     "slide_type": "slide"
    }
   },
   "source": [
    "# Kinematika togega telesa\n",
    "Prof. dr. Janko Slavič, Univerza v Ljubljani, Fakulteta za strojništvo\n",
    "\n",
    "## Vrtilna količina - vektorski izračun"
   ]
  },
  {
   "cell_type": "code",
   "execution_count": 1,
   "metadata": {
    "slideshow": {
     "slide_type": "subslide"
    }
   },
   "outputs": [],
   "source": [
    "import sympy as sym\n",
    "import numpy as np\n",
    "import matplotlib.pyplot as plt\n",
    "%matplotlib inline\n",
    "sym.init_printing()"
   ]
  },
  {
   "cell_type": "markdown",
   "metadata": {},
   "source": [
    "Če uporabite Google Colab, potem odkomentirajte (odstranite #) spodnje vrstice in jih sprožite:"
   ]
  },
  {
   "cell_type": "code",
   "execution_count": 2,
   "metadata": {},
   "outputs": [],
   "source": [
    "#def custom_latex_printer(exp,**options):\n",
    "#    from google.colab.output._publish import javascript\n",
    "#    url = \"https://cdnjs.cloudflare.com/ajax/libs/mathjax/2.7.3/latest.js?config=default\"\n",
    "#    javascript(url=url)\n",
    "#    return sym.printing.latex(exp,**options)\n",
    "#sym.init_printing(use_latex=\"mathjax\",latex_printer=custom_latex_printer)"
   ]
  },
  {
   "cell_type": "markdown",
   "metadata": {
    "slideshow": {
     "slide_type": "subslide"
    }
   },
   "source": [
    "Definirajmo simbole:"
   ]
  },
  {
   "cell_type": "code",
   "execution_count": 22,
   "metadata": {},
   "outputs": [],
   "source": [
    "ωx, ωy, ωz, m = sym.symbols(\"omega_x, omega_y, omega_z m\")\n",
    "x = sym.Function('x')(m)\n",
    "y = sym.Function('y')(m)\n",
    "z = sym.Function('z')(m)"
   ]
  },
  {
   "cell_type": "markdown",
   "metadata": {
    "slideshow": {
     "slide_type": "subslide"
    }
   },
   "source": [
    "in vektorje:"
   ]
  },
  {
   "cell_type": "code",
   "execution_count": 23,
   "metadata": {},
   "outputs": [],
   "source": [
    "r = sym.Matrix([[x], [y], [z]])\n",
    "ω = sym.Matrix([[ωx], [ωy], [ωz]])"
   ]
  },
  {
   "cell_type": "code",
   "execution_count": 24,
   "metadata": {},
   "outputs": [
    {
     "data": {
      "image/png": "[encoded data removed]",
      "text/latex": [
       "$\\displaystyle \\left[\\begin{matrix}x{\\left(m \\right)}\\\\y{\\left(m \\right)}\\\\z{\\left(m \\right)}\\end{matrix}\\right]$"
      ],
      "text/plain": [
       "⎡x(m)⎤\n",
       "⎢    ⎥\n",
       "⎢y(m)⎥\n",
       "⎢    ⎥\n",
       "⎣z(m)⎦"
      ]
     },
     "execution_count": 24,
     "metadata": {},
     "output_type": "execute_result"
    }
   ],
   "source": [
    "r"
   ]
  },
  {
   "cell_type": "code",
   "execution_count": 25,
   "metadata": {},
   "outputs": [
    {
     "data": {
      "image/png": "[encoded data removed]",
      "text/latex": [
       "$\\displaystyle \\left[\\begin{matrix}\\omega_{x}\\\\\\omega_{y}\\\\\\omega_{z}\\end{matrix}\\right]$"
      ],
      "text/plain": [
       "⎡ωₓ ⎤\n",
       "⎢   ⎥\n",
       "⎢ω_y⎥\n",
       "⎢   ⎥\n",
       "⎣ω_z⎦"
      ]
     },
     "execution_count": 25,
     "metadata": {},
     "output_type": "execute_result"
    }
   ],
   "source": [
    "ω"
   ]
  },
  {
   "cell_type": "markdown",
   "metadata": {
    "slideshow": {
     "slide_type": "subslide"
    }
   },
   "source": [
    "Želimo izračunati:\n",
    "$$\\boldsymbol{L}=\\int_m \\boldsymbol{r}\\times\\boldsymbol{\\omega}\\times\\boldsymbol{r}\\,\\,\\textrm{d}m$$\n",
    "Izračunajmo podintegralsko funkcijo"
   ]
  },
  {
   "cell_type": "code",
   "execution_count": 26,
   "metadata": {},
   "outputs": [],
   "source": [
    "B = r.cross(ω.cross(r))"
   ]
  },
  {
   "cell_type": "code",
   "execution_count": 27,
   "metadata": {
    "slideshow": {
     "slide_type": "subslide"
    }
   },
   "outputs": [
    {
     "data": {
      "image/png": "[encoded data removed]",
      "text/latex": [
       "$\\displaystyle \\left[\\begin{matrix}\\left(\\omega_{x} y{\\left(m \\right)} - \\omega_{y} x{\\left(m \\right)}\\right) y{\\left(m \\right)} - \\left(- \\omega_{x} z{\\left(m \\right)} + \\omega_{z} x{\\left(m \\right)}\\right) z{\\left(m \\right)}\\\\- \\left(\\omega_{x} y{\\left(m \\right)} - \\omega_{y} x{\\left(m \\right)}\\right) x{\\left(m \\right)} + \\left(\\omega_{y} z{\\left(m \\right)} - \\omega_{z} y{\\left(m \\right)}\\right) z{\\left(m \\right)}\\\\\\left(- \\omega_{x} z{\\left(m \\right)} + \\omega_{z} x{\\left(m \\right)}\\right) x{\\left(m \\right)} - \\left(\\omega_{y} z{\\left(m \\right)} - \\omega_{z} y{\\left(m \\right)}\\right) y{\\left(m \\right)}\\end{matrix}\\right]$"
      ],
      "text/plain": [
       "⎡(ωₓ⋅y(m) - ω_y⋅x(m))⋅y(m) - (-ωₓ⋅z(m) + ω_z⋅x(m))⋅z(m) ⎤\n",
       "⎢                                                       ⎥\n",
       "⎢-(ωₓ⋅y(m) - ω_y⋅x(m))⋅x(m) + (ω_y⋅z(m) - ω_z⋅y(m))⋅z(m)⎥\n",
       "⎢                                                       ⎥\n",
       "⎣(-ωₓ⋅z(m) + ω_z⋅x(m))⋅x(m) - (ω_y⋅z(m) - ω_z⋅y(m))⋅y(m)⎦"
      ]
     },
     "execution_count": 27,
     "metadata": {},
     "output_type": "execute_result"
    }
   ],
   "source": [
    "B"
   ]
  },
  {
   "cell_type": "markdown",
   "metadata": {
    "slideshow": {
     "slide_type": "subslide"
    }
   },
   "source": [
    "Ker je kotna hitrost $\\boldsymbol{\\omega}$ konstantna za vse masne delce, jo lahko izpostavimo. Poglejmo si najprej za prvo vrstico $B$:"
   ]
  },
  {
   "cell_type": "code",
   "execution_count": 28,
   "metadata": {},
   "outputs": [
    {
     "data": {
      "image/png": "[encoded data removed]",
      "text/latex": [
       "$\\displaystyle \\left(\\omega_{x} y{\\left(m \\right)} - \\omega_{y} x{\\left(m \\right)}\\right) y{\\left(m \\right)} - \\left(- \\omega_{x} z{\\left(m \\right)} + \\omega_{z} x{\\left(m \\right)}\\right) z{\\left(m \\right)}$"
      ],
      "text/plain": [
       "(ωₓ⋅y(m) - ω_y⋅x(m))⋅y(m) - (-ωₓ⋅z(m) + ω_z⋅x(m))⋅z(m)"
      ]
     },
     "execution_count": 28,
     "metadata": {},
     "output_type": "execute_result"
    }
   ],
   "source": [
    "B[0]"
   ]
  },
  {
   "cell_type": "code",
   "execution_count": 29,
   "metadata": {},
   "outputs": [
    {
     "data": {
      "image/png": "[encoded data removed]",
      "text/latex": [
       "$\\displaystyle y^{2}{\\left(m \\right)} + z^{2}{\\left(m \\right)}$"
      ],
      "text/plain": [
       " 2       2   \n",
       "y (m) + z (m)"
      ]
     },
     "execution_count": 29,
     "metadata": {},
     "output_type": "execute_result"
    }
   ],
   "source": [
    "B[0].expand().coeff(ωx)"
   ]
  },
  {
   "cell_type": "code",
   "execution_count": 30,
   "metadata": {},
   "outputs": [
    {
     "data": {
      "image/png": "[encoded data removed]",
      "text/latex": [
       "$\\displaystyle - x{\\left(m \\right)} y{\\left(m \\right)}$"
      ],
      "text/plain": [
       "-x(m)⋅y(m)"
      ]
     },
     "execution_count": 30,
     "metadata": {},
     "output_type": "execute_result"
    }
   ],
   "source": [
    "B[0].expand().coeff(ωy)"
   ]
  },
  {
   "cell_type": "code",
   "execution_count": 31,
   "metadata": {},
   "outputs": [
    {
     "data": {
      "image/png": "[encoded data removed]",
      "text/latex": [
       "$\\displaystyle - x{\\left(m \\right)} z{\\left(m \\right)}$"
      ],
      "text/plain": [
       "-x(m)⋅z(m)"
      ]
     },
     "execution_count": 31,
     "metadata": {},
     "output_type": "execute_result"
    }
   ],
   "source": [
    "B[0].expand().coeff(ωz)"
   ]
  },
  {
   "cell_type": "markdown",
   "metadata": {
    "slideshow": {
     "slide_type": "subslide"
    }
   },
   "source": [
    "In sedaj posplošimo:"
   ]
  },
  {
   "cell_type": "code",
   "execution_count": 32,
   "metadata": {},
   "outputs": [
    {
     "data": {
      "image/png": "[encoded data removed]",
      "text/latex": [
       "$\\displaystyle \\left[\\begin{matrix}\\omega_{x} \\int \\left(y^{2}{\\left(m \\right)} + z^{2}{\\left(m \\right)}\\right)\\, dm & - \\omega_{y} \\int x{\\left(m \\right)} y{\\left(m \\right)}\\, dm & - \\omega_{z} \\int x{\\left(m \\right)} z{\\left(m \\right)}\\, dm\\\\- \\omega_{x} \\int x{\\left(m \\right)} y{\\left(m \\right)}\\, dm & \\omega_{y} \\int \\left(x^{2}{\\left(m \\right)} + z^{2}{\\left(m \\right)}\\right)\\, dm & - \\omega_{z} \\int y{\\left(m \\right)} z{\\left(m \\right)}\\, dm\\\\- \\omega_{x} \\int x{\\left(m \\right)} z{\\left(m \\right)}\\, dm & - \\omega_{y} \\int y{\\left(m \\right)} z{\\left(m \\right)}\\, dm & \\omega_{z} \\int \\left(x^{2}{\\left(m \\right)} + y^{2}{\\left(m \\right)}\\right)\\, dm\\end{matrix}\\right]$"
      ],
      "text/plain": [
       "⎡   ⌠                                                                       ⎤\n",
       "⎢   ⎮ ⎛ 2       2   ⎞            ⌠                         ⌠                ⎥\n",
       "⎢ωₓ⋅⎮ ⎝y (m) + z (m)⎠ dm    -ω_y⋅⎮ x(m)⋅y(m) dm       -ω_z⋅⎮ x(m)⋅z(m) dm   ⎥\n",
       "⎢   ⌡                            ⌡                         ⌡                ⎥\n",
       "⎢                                                                           ⎥\n",
       "⎢                             ⌠                                             ⎥\n",
       "⎢      ⌠                      ⎮ ⎛ 2       2   ⎞            ⌠                ⎥\n",
       "⎢  -ωₓ⋅⎮ x(m)⋅y(m) dm     ω_y⋅⎮ ⎝x (m) + z (m)⎠ dm    -ω_z⋅⎮ y(m)⋅z(m) dm   ⎥\n",
       "⎢      ⌡                      ⌡                            ⌡                ⎥\n",
       "⎢                                                                           ⎥\n",
       "⎢                                                       ⌠                   ⎥\n",
       "⎢      ⌠                         ⌠                      ⎮ ⎛ 2       2   ⎞   ⎥\n",
       "⎢  -ωₓ⋅⎮ x(m)⋅z(m) dm       -ω_y⋅⎮ y(m)⋅z(m) dm     ω_z⋅⎮ ⎝x (m) + y (m)⎠ dm⎥\n",
       "⎣      ⌡                         ⌡                      ⌡                   ⎦"
      ]
     },
     "execution_count": 32,
     "metadata": {},
     "output_type": "execute_result"
    }
   ],
   "source": [
    "L = sym.Matrix([[w*sym.integrate(b.expand().coeff(w),m) for w in ω] for b in B])\n",
    "L"
   ]
  },
  {
   "cell_type": "markdown",
   "metadata": {
    "slideshow": {
     "slide_type": "subslide"
    }
   },
   "source": [
    "Iz zapisa je jasno, da je smiselno zapisati masni vztrajnostni tenzor (pri togem telesu je konstanta) kot:\n",
    "\n",
    "<img src='fig/masna matrika.png' width=350>"
   ]
  },
  {
   "cell_type": "markdown",
   "metadata": {
    "slideshow": {
     "slide_type": "slide"
    }
   },
   "source": [
    "## Masni vztrajnostni moment trikotnika"
   ]
  },
  {
   "cell_type": "markdown",
   "metadata": {},
   "source": [
    "<img src='fig/trikotnik.png' width=300>"
   ]
  },
  {
   "cell_type": "markdown",
   "metadata": {},
   "source": [
    "Simboli"
   ]
  },
  {
   "cell_type": "code",
   "execution_count": 14,
   "metadata": {},
   "outputs": [],
   "source": [
    "a, b, p, x, y, r, m = sym.symbols('a, b, p, x, y, rho, m')"
   ]
  },
  {
   "cell_type": "markdown",
   "metadata": {},
   "source": [
    "Podatki"
   ]
  },
  {
   "cell_type": "code",
   "execution_count": 15,
   "metadata": {},
   "outputs": [],
   "source": [
    "podatki = {a: 1, b:2, p: 0.01, r: 2700}"
   ]
  },
  {
   "cell_type": "markdown",
   "metadata": {},
   "source": [
    "Funkcija stranice $y(x)$:"
   ]
  },
  {
   "cell_type": "code",
   "execution_count": 16,
   "metadata": {},
   "outputs": [],
   "source": [
    "fx = a - a/b*y"
   ]
  },
  {
   "cell_type": "code",
   "execution_count": 18,
   "metadata": {},
   "outputs": [],
   "source": [
    "fxp = sym.lambdify(y, fx.subs(podatki), 'numpy')\n",
    "y_n = np.linspace(0, podatki[b], 10)\n",
    "x_n = fxp(y_n)\n",
    "y_n = np.append(y_n, 0.)\n",
    "x_n = np.append(x_n, 0.)"
   ]
  },
  {
   "cell_type": "markdown",
   "metadata": {},
   "source": [
    "Prikažimo trikotnik"
   ]
  },
  {
   "cell_type": "code",
   "execution_count": 19,
   "metadata": {},
   "outputs": [
    {
     "name": "stderr",
     "output_type": "stream",
     "text": [
      "C:\\ProgramData\\Anaconda3\\lib\\site-packages\\ipykernel_launcher.py:2: MatplotlibDeprecationWarning: Adding an axes using the same arguments as a previous axes currently reuses the earlier instance.  In a future version, a new instance will always be created and returned.  Meanwhile, this warning can be suppressed, and the future behavior ensured, by passing a unique label to each axes instance.\n",
      "  \n"
     ]
    },
    {
     "data": {
      "image/png": "[encoded data removed]",
      "text/plain": [
       "<Figure size 432x288 with 1 Axes>"
      ]
     },
     "metadata": {
      "needs_background": "light"
     },
     "output_type": "display_data"
    }
   ],
   "source": [
    "plt.fill(x_n[::-1], y_n[::-1], alpha=0.3, closed=True)\n",
    "plt.axes().set_aspect('equal')\n",
    "plt.grid(True)\n",
    "plt.xlim(-.1, podatki[a]+0.1)\n",
    "plt.ylim(-.1, podatki[b]+0.1)\n",
    "plt.show()"
   ]
  },
  {
   "cell_type": "markdown",
   "metadata": {},
   "source": [
    "Masni vztrajnostni momenti"
   ]
  },
  {
   "cell_type": "code",
   "execution_count": 20,
   "metadata": {},
   "outputs": [
    {
     "data": {
      "image/png": "[encoded data removed]",
      "text/latex": [
       "$\\displaystyle p \\rho y^{2} \\left(a - \\frac{a y}{b}\\right)$"
      ],
      "text/plain": [
       "     2 ⎛    a⋅y⎞\n",
       "p⋅ρ⋅y ⋅⎜a - ───⎟\n",
       "       ⎝     b ⎠"
      ]
     },
     "execution_count": 20,
     "metadata": {},
     "output_type": "execute_result"
    }
   ],
   "source": [
    "y**2 * fx * r * p"
   ]
  },
  {
   "cell_type": "code",
   "execution_count": 21,
   "metadata": {},
   "outputs": [
    {
     "data": {
      "image/png": "[encoded data removed]",
      "text/latex": [
       "$\\displaystyle \\frac{a b^{3} p \\rho}{12}$"
      ],
      "text/plain": [
       "   3    \n",
       "a⋅b ⋅p⋅ρ\n",
       "────────\n",
       "   12   "
      ]
     },
     "execution_count": 21,
     "metadata": {},
     "output_type": "execute_result"
    }
   ],
   "source": [
    "J_xx = sym.integrate(y**2 * fx * r * p, (y, 0, b))\n",
    "J_xx"
   ]
  },
  {
   "cell_type": "code",
   "execution_count": 22,
   "metadata": {},
   "outputs": [
    {
     "data": {
      "image/png": "[encoded data removed]",
      "text/latex": [
       "$\\displaystyle \\frac{b^{2} m}{6}$"
      ],
      "text/plain": [
       " 2  \n",
       "b ⋅m\n",
       "────\n",
       " 6  "
      ]
     },
     "execution_count": 22,
     "metadata": {},
     "output_type": "execute_result"
    }
   ],
   "source": [
    "J_xx = J_xx.subs(p*r*a*b/2, m)\n",
    "J_xx"
   ]
  },
  {
   "cell_type": "code",
   "execution_count": 23,
   "metadata": {},
   "outputs": [],
   "source": [
    "J_yy = J_xx.subs(b,a)\n",
    "J_zz = J_xx + J_yy"
   ]
  },
  {
   "cell_type": "code",
   "execution_count": 25,
   "metadata": {},
   "outputs": [
    {
     "data": {
      "image/png": "[encoded data removed]",
      "text/latex": [
       "$\\displaystyle \\frac{a b m}{12}$"
      ],
      "text/plain": [
       "a⋅b⋅m\n",
       "─────\n",
       "  12 "
      ]
     },
     "execution_count": 25,
     "metadata": {},
     "output_type": "execute_result"
    }
   ],
   "source": [
    "J_xy = sym.integrate( sym.integrate(x*y * r * p, (x, 0, fx)), (y, 0, b)).subs(p*r*a*b/2, m)\n",
    "J_xy"
   ]
  },
  {
   "cell_type": "code",
   "execution_count": 26,
   "metadata": {},
   "outputs": [],
   "source": [
    "J_xz = 0\n",
    "J_yz = 0"
   ]
  },
  {
   "cell_type": "code",
   "execution_count": 28,
   "metadata": {},
   "outputs": [],
   "source": [
    "J = sym.Matrix([[+J_xx, -J_xy, -J_xz],\n",
    "            [-J_xy, +J_yy, -J_yz],\n",
    "            [-J_xz, -J_yz, +J_zz]])"
   ]
  },
  {
   "cell_type": "code",
   "execution_count": 29,
   "metadata": {},
   "outputs": [
    {
     "data": {
      "image/png": "[encoded data removed]",
      "text/latex": [
       "$\\displaystyle \\left[\\begin{matrix}\\frac{b^{2} m}{6} & - \\frac{a b m}{12} & 0\\\\- \\frac{a b m}{12} & \\frac{a^{2} m}{6} & 0\\\\0 & 0 & \\frac{a^{2} m}{6} + \\frac{b^{2} m}{6}\\end{matrix}\\right]$"
      ],
      "text/plain": [
       "⎡  2                          ⎤\n",
       "⎢ b ⋅m    -a⋅b⋅m              ⎥\n",
       "⎢ ────    ───────       0     ⎥\n",
       "⎢  6         12               ⎥\n",
       "⎢                             ⎥\n",
       "⎢           2                 ⎥\n",
       "⎢-a⋅b⋅m    a ⋅m               ⎥\n",
       "⎢───────   ────         0     ⎥\n",
       "⎢   12      6                 ⎥\n",
       "⎢                             ⎥\n",
       "⎢                   2      2  ⎥\n",
       "⎢                  a ⋅m   b ⋅m⎥\n",
       "⎢   0        0     ──── + ────⎥\n",
       "⎣                   6      6  ⎦"
      ]
     },
     "execution_count": 29,
     "metadata": {},
     "output_type": "execute_result"
    }
   ],
   "source": [
    "J"
   ]
  },
  {
   "cell_type": "markdown",
   "metadata": {},
   "source": [
    "Glavni MVM"
   ]
  },
  {
   "cell_type": "code",
   "execution_count": 30,
   "metadata": {},
   "outputs": [
    {
     "data": {
      "image/png": "[encoded data removed]",
      "text/latex": [
       "$\\displaystyle \\left[ \\left( \\frac{a^{2} m}{6} + \\frac{b^{2} m}{6}, \\  1, \\  \\left[ \\left[\\begin{matrix}0\\\\0\\\\1\\end{matrix}\\right]\\right]\\right), \\  \\left( \\frac{a^{2} m}{12} + \\frac{b^{2} m}{12} - \\frac{m \\sqrt{a^{4} - a^{2} b^{2} + b^{4}}}{12}, \\  1, \\  \\left[ \\left[\\begin{matrix}\\frac{a b m}{12 \\left(- \\frac{a^{2} m}{12} + \\frac{b^{2} m}{12} + \\frac{m \\sqrt{a^{4} - a^{2} b^{2} + b^{4}}}{12}\\right)}\\\\1\\\\0\\end{matrix}\\right]\\right]\\right), \\  \\left( \\frac{a^{2} m}{12} + \\frac{b^{2} m}{12} + \\frac{m \\sqrt{a^{4} - a^{2} b^{2} + b^{4}}}{12}, \\  1, \\  \\left[ \\left[\\begin{matrix}\\frac{a b m}{12 \\left(- \\frac{a^{2} m}{12} + \\frac{b^{2} m}{12} - \\frac{m \\sqrt{a^{4} - a^{2} b^{2} + b^{4}}}{12}\\right)}\\\\1\\\\0\\end{matrix}\\right]\\right]\\right)\\right]$"
      ],
      "text/plain": [
       "⎡                         ⎛                                         ⎡⎡        \n",
       "⎢                         ⎜                                         ⎢⎢────────\n",
       "⎢                         ⎜                   _________________     ⎢⎢   ⎛    \n",
       "⎢⎛ 2      2       ⎡⎡0⎤⎤⎞  ⎜ 2      2         ╱  4    2  2    4      ⎢⎢   ⎜   2\n",
       "⎢⎜a ⋅m   b ⋅m     ⎢⎢ ⎥⎥⎟  ⎜a ⋅m   b ⋅m   m⋅╲╱  a  - a ⋅b  + b       ⎢⎢   ⎜  a \n",
       "⎢⎜──── + ────, 1, ⎢⎢0⎥⎥⎟, ⎜──── + ──── - ──────────────────────, 1, ⎢⎢12⋅⎜- ──\n",
       "⎢⎜ 6      6       ⎢⎢ ⎥⎥⎟  ⎜ 12     12              12               ⎢⎢   ⎝   1\n",
       "⎢⎝                ⎣⎣1⎦⎦⎠  ⎜                                         ⎢⎢        \n",
       "⎢                         ⎜                                         ⎢⎢        \n",
       "⎢                         ⎜                                         ⎢⎢        \n",
       "⎣                         ⎝                                         ⎣⎣        \n",
       "\n",
       "           a⋅b⋅m                   ⎤⎤⎞  ⎛                                     \n",
       "───────────────────────────────────⎥⎥⎟  ⎜                                     \n",
       "                 _________________⎞⎥⎥⎟  ⎜                   _________________ \n",
       "      2         ╱  4    2  2    4 ⎟⎥⎥⎟  ⎜ 2      2         ╱  4    2  2    4  \n",
       "⋅m   b ⋅m   m⋅╲╱  a  - a ⋅b  + b  ⎟⎥⎥⎟  ⎜a ⋅m   b ⋅m   m⋅╲╱  a  - a ⋅b  + b   \n",
       "── + ──── + ──────────────────────⎟⎥⎥⎟, ⎜──── + ──── + ──────────────────────,\n",
       "2     12              12          ⎠⎥⎥⎟  ⎜ 12     12              12           \n",
       "                                   ⎥⎥⎟  ⎜                                     \n",
       "             1                     ⎥⎥⎟  ⎜                                     \n",
       "                                   ⎥⎥⎟  ⎜                                     \n",
       "             0                     ⎦⎦⎠  ⎝                                     \n",
       "\n",
       "    ⎡⎡                   a⋅b⋅m                   ⎤⎤⎞⎤\n",
       "    ⎢⎢───────────────────────────────────────────⎥⎥⎟⎥\n",
       "    ⎢⎢   ⎛                     _________________⎞⎥⎥⎟⎥\n",
       "    ⎢⎢   ⎜   2      2         ╱  4    2  2    4 ⎟⎥⎥⎟⎥\n",
       "    ⎢⎢   ⎜  a ⋅m   b ⋅m   m⋅╲╱  a  - a ⋅b  + b  ⎟⎥⎥⎟⎥\n",
       " 1, ⎢⎢12⋅⎜- ──── + ──── - ──────────────────────⎟⎥⎥⎟⎥\n",
       "    ⎢⎢   ⎝   12     12              12          ⎠⎥⎥⎟⎥\n",
       "    ⎢⎢                                           ⎥⎥⎟⎥\n",
       "    ⎢⎢                     1                     ⎥⎥⎟⎥\n",
       "    ⎢⎢                                           ⎥⎥⎟⎥\n",
       "    ⎣⎣                     0                     ⎦⎦⎠⎦"
      ]
     },
     "execution_count": 30,
     "metadata": {},
     "output_type": "execute_result"
    }
   ],
   "source": [
    "eig = J.eigenvects()\n",
    "eig"
   ]
  },
  {
   "cell_type": "code",
   "execution_count": 31,
   "metadata": {},
   "outputs": [
    {
     "data": {
      "image/png": "[encoded data removed]",
      "text/latex": [
       "$\\displaystyle \\left( \\frac{a^{2} m}{6} + \\frac{b^{2} m}{6}, \\  1, \\  \\left[ \\left[\\begin{matrix}0\\\\0\\\\1\\end{matrix}\\right]\\right]\\right)$"
      ],
      "text/plain": [
       "⎛ 2      2       ⎡⎡0⎤⎤⎞\n",
       "⎜a ⋅m   b ⋅m     ⎢⎢ ⎥⎥⎟\n",
       "⎜──── + ────, 1, ⎢⎢0⎥⎥⎟\n",
       "⎜ 6      6       ⎢⎢ ⎥⎥⎟\n",
       "⎝                ⎣⎣1⎦⎦⎠"
      ]
     },
     "execution_count": 31,
     "metadata": {},
     "output_type": "execute_result"
    }
   ],
   "source": [
    "eig[0]"
   ]
  },
  {
   "cell_type": "code",
   "execution_count": 32,
   "metadata": {},
   "outputs": [
    {
     "data": {
      "image/png": "[encoded data removed]",
      "text/latex": [
       "$\\displaystyle \\left( \\frac{a^{2} m}{12} + \\frac{b^{2} m}{12} - \\frac{m \\sqrt{a^{4} - a^{2} b^{2} + b^{4}}}{12}, \\  1, \\  \\left[ \\left[\\begin{matrix}\\frac{a b m}{12 \\left(- \\frac{a^{2} m}{12} + \\frac{b^{2} m}{12} + \\frac{m \\sqrt{a^{4} - a^{2} b^{2} + b^{4}}}{12}\\right)}\\\\1\\\\0\\end{matrix}\\right]\\right]\\right)$"
      ],
      "text/plain": [
       "⎛                                         ⎡⎡                   a⋅b⋅m          \n",
       "⎜                                         ⎢⎢──────────────────────────────────\n",
       "⎜                   _________________     ⎢⎢   ⎛                     _________\n",
       "⎜ 2      2         ╱  4    2  2    4      ⎢⎢   ⎜   2      2         ╱  4    2 \n",
       "⎜a ⋅m   b ⋅m   m⋅╲╱  a  - a ⋅b  + b       ⎢⎢   ⎜  a ⋅m   b ⋅m   m⋅╲╱  a  - a ⋅\n",
       "⎜──── + ──── - ──────────────────────, 1, ⎢⎢12⋅⎜- ──── + ──── + ──────────────\n",
       "⎜ 12     12              12               ⎢⎢   ⎝   12     12              12  \n",
       "⎜                                         ⎢⎢                                  \n",
       "⎜                                         ⎢⎢                     1            \n",
       "⎜                                         ⎢⎢                                  \n",
       "⎝                                         ⎣⎣                     0            \n",
       "\n",
       "         ⎤⎤⎞\n",
       "─────────⎥⎥⎟\n",
       "________⎞⎥⎥⎟\n",
       " 2    4 ⎟⎥⎥⎟\n",
       "b  + b  ⎟⎥⎥⎟\n",
       "────────⎟⎥⎥⎟\n",
       "        ⎠⎥⎥⎟\n",
       "         ⎥⎥⎟\n",
       "         ⎥⎥⎟\n",
       "         ⎥⎥⎟\n",
       "         ⎦⎦⎠"
      ]
     },
     "execution_count": 32,
     "metadata": {},
     "output_type": "execute_result"
    }
   ],
   "source": [
    "eig[1]"
   ]
  },
  {
   "cell_type": "code",
   "execution_count": 33,
   "metadata": {},
   "outputs": [
    {
     "data": {
      "image/png": "[encoded data removed]",
      "text/latex": [
       "$\\displaystyle \\left( \\frac{a^{2} m}{12} + \\frac{b^{2} m}{12} + \\frac{m \\sqrt{a^{4} - a^{2} b^{2} + b^{4}}}{12}, \\  1, \\  \\left[ \\left[\\begin{matrix}\\frac{a b m}{12 \\left(- \\frac{a^{2} m}{12} + \\frac{b^{2} m}{12} - \\frac{m \\sqrt{a^{4} - a^{2} b^{2} + b^{4}}}{12}\\right)}\\\\1\\\\0\\end{matrix}\\right]\\right]\\right)$"
      ],
      "text/plain": [
       "⎛                                         ⎡⎡                   a⋅b⋅m          \n",
       "⎜                                         ⎢⎢──────────────────────────────────\n",
       "⎜                   _________________     ⎢⎢   ⎛                     _________\n",
       "⎜ 2      2         ╱  4    2  2    4      ⎢⎢   ⎜   2      2         ╱  4    2 \n",
       "⎜a ⋅m   b ⋅m   m⋅╲╱  a  - a ⋅b  + b       ⎢⎢   ⎜  a ⋅m   b ⋅m   m⋅╲╱  a  - a ⋅\n",
       "⎜──── + ──── + ──────────────────────, 1, ⎢⎢12⋅⎜- ──── + ──── - ──────────────\n",
       "⎜ 12     12              12               ⎢⎢   ⎝   12     12              12  \n",
       "⎜                                         ⎢⎢                                  \n",
       "⎜                                         ⎢⎢                     1            \n",
       "⎜                                         ⎢⎢                                  \n",
       "⎝                                         ⎣⎣                     0            \n",
       "\n",
       "         ⎤⎤⎞\n",
       "─────────⎥⎥⎟\n",
       "________⎞⎥⎥⎟\n",
       " 2    4 ⎟⎥⎥⎟\n",
       "b  + b  ⎟⎥⎥⎟\n",
       "────────⎟⎥⎥⎟\n",
       "        ⎠⎥⎥⎟\n",
       "         ⎥⎥⎟\n",
       "         ⎥⎥⎟\n",
       "         ⎥⎥⎟\n",
       "         ⎦⎦⎠"
      ]
     },
     "execution_count": 33,
     "metadata": {},
     "output_type": "execute_result"
    }
   ],
   "source": [
    "eig[2]"
   ]
  },
  {
   "cell_type": "code",
   "execution_count": 34,
   "metadata": {},
   "outputs": [
    {
     "name": "stderr",
     "output_type": "stream",
     "text": [
      "C:\\ProgramData\\Anaconda3\\lib\\site-packages\\ipykernel_launcher.py:3: MatplotlibDeprecationWarning: Adding an axes using the same arguments as a previous axes currently reuses the earlier instance.  In a future version, a new instance will always be created and returned.  Meanwhile, this warning can be suppressed, and the future behavior ensured, by passing a unique label to each axes instance.\n",
      "  This is separate from the ipykernel package so we can avoid doing imports until\n"
     ]
    },
    {
     "data": {
      "image/png": "[encoded data removed]",
      "text/plain": [
       "<Figure size 432x288 with 1 Axes>"
      ]
     },
     "metadata": {
      "needs_background": "light"
     },
     "output_type": "display_data"
    }
   ],
   "source": [
    "ax = plt.subplot(111)\n",
    "plt.fill(x_n[::-1], y_n[::-1], alpha=0.3, closed=True)\n",
    "plt.axes().set_aspect('equal')\n",
    "plt.grid(True)\n",
    "plt.xlim(-1.1, podatki[a]+1.1)\n",
    "plt.ylim(-1.1, podatki[b]+1.1)\n",
    "ax.quiver(0,0,1,1,angles='xy',scale_units='xy',scale=1)\n",
    "ax.quiver(0,0,-1,1,angles='xy',scale_units='xy',scale=1)\n",
    "plt.show()"
   ]
  },
  {
   "cell_type": "markdown",
   "metadata": {},
   "source": [
    "### Zvrnitev osi"
   ]
  },
  {
   "cell_type": "code",
   "execution_count": 35,
   "metadata": {},
   "outputs": [],
   "source": [
    "Lx, Ly, Lz, x, y, z = sym.symbols(\"lambda_x, lambda_y, lambda_z, x, y, z\")"
   ]
  },
  {
   "cell_type": "code",
   "execution_count": 37,
   "metadata": {},
   "outputs": [],
   "source": [
    "r = sym.Matrix([[x], [y], [z]])\n",
    "L = sym.Matrix([[Lx], [Ly], [Lz]])"
   ]
  },
  {
   "cell_type": "code",
   "execution_count": 38,
   "metadata": {},
   "outputs": [
    {
     "data": {
      "image/png": "[encoded data removed]",
      "text/latex": [
       "$\\displaystyle \\left[\\begin{matrix}x\\\\y\\\\z\\end{matrix}\\right]$"
      ],
      "text/plain": [
       "⎡x⎤\n",
       "⎢ ⎥\n",
       "⎢y⎥\n",
       "⎢ ⎥\n",
       "⎣z⎦"
      ]
     },
     "execution_count": 38,
     "metadata": {},
     "output_type": "execute_result"
    }
   ],
   "source": [
    "r"
   ]
  },
  {
   "cell_type": "code",
   "execution_count": 39,
   "metadata": {},
   "outputs": [
    {
     "data": {
      "image/png": "[encoded data removed]",
      "text/latex": [
       "$\\displaystyle \\left[\\begin{matrix}\\lambda_{x}\\\\\\lambda_{y}\\\\\\lambda_{z}\\end{matrix}\\right]$"
      ],
      "text/plain": [
       "⎡λₓ ⎤\n",
       "⎢   ⎥\n",
       "⎢λ_y⎥\n",
       "⎢   ⎥\n",
       "⎣λ_z⎦"
      ]
     },
     "execution_count": 39,
     "metadata": {},
     "output_type": "execute_result"
    }
   ],
   "source": [
    "L"
   ]
  },
  {
   "cell_type": "code",
   "execution_count": 40,
   "metadata": {},
   "outputs": [
    {
     "data": {
      "image/png": "[encoded data removed]",
      "text/latex": [
       "$\\displaystyle \\left[\\begin{matrix}- \\lambda_{y} z + \\lambda_{z} y\\\\\\lambda_{x} z - \\lambda_{z} x\\\\- \\lambda_{x} y + \\lambda_{y} x\\end{matrix}\\right]$"
      ],
      "text/plain": [
       "⎡-λ_y⋅z + λ_z⋅y⎤\n",
       "⎢              ⎥\n",
       "⎢ λₓ⋅z - λ_z⋅x ⎥\n",
       "⎢              ⎥\n",
       "⎣-λₓ⋅y + λ_y⋅x ⎦"
      ]
     },
     "execution_count": 40,
     "metadata": {},
     "output_type": "execute_result"
    }
   ],
   "source": [
    "r.cross(L)"
   ]
  },
  {
   "cell_type": "code",
   "execution_count": 41,
   "metadata": {},
   "outputs": [
    {
     "data": {
      "image/png": "[encoded data removed]",
      "text/latex": [
       "$\\displaystyle \\left(- \\lambda_{x} y + \\lambda_{y} x\\right)^{2} + \\left(\\lambda_{x} z - \\lambda_{z} x\\right)^{2} + \\left(- \\lambda_{y} z + \\lambda_{z} y\\right)^{2}$"
      ],
      "text/plain": [
       "               2                 2                   2\n",
       "(-λₓ⋅y + λ_y⋅x)  + (λₓ⋅z - λ_z⋅x)  + (-λ_y⋅z + λ_z⋅y) "
      ]
     },
     "execution_count": 41,
     "metadata": {},
     "output_type": "execute_result"
    }
   ],
   "source": [
    "tmp1 = r.cross(L).dot(r.cross(L))\n",
    "tmp1"
   ]
  },
  {
   "cell_type": "code",
   "execution_count": 42,
   "metadata": {},
   "outputs": [
    {
     "data": {
      "image/png": "[encoded data removed]",
      "text/latex": [
       "$\\displaystyle \\lambda_{x}^{2} y^{2} + \\lambda_{x}^{2} z^{2} - 2 \\lambda_{x} \\lambda_{y} x y - 2 \\lambda_{x} \\lambda_{z} x z + \\lambda_{y}^{2} x^{2} + \\lambda_{y}^{2} z^{2} - 2 \\lambda_{y} \\lambda_{z} y z + \\lambda_{z}^{2} x^{2} + \\lambda_{z}^{2} y^{2}$"
      ],
      "text/plain": [
       "  2  2     2  2                                    2  2      2  2             \n",
       "λₓ ⋅y  + λₓ ⋅z  - 2⋅λₓ⋅λ_y⋅x⋅y - 2⋅λₓ⋅λ_z⋅x⋅z + λ_y ⋅x  + λ_y ⋅z  - 2⋅λ_y⋅λ_z⋅\n",
       "\n",
       "         2  2      2  2\n",
       "y⋅z + λ_z ⋅x  + λ_z ⋅y "
      ]
     },
     "execution_count": 42,
     "metadata": {},
     "output_type": "execute_result"
    }
   ],
   "source": [
    "tmp2 = tmp1.expand()\n",
    "tmp2"
   ]
  },
  {
   "cell_type": "code",
   "execution_count": 43,
   "metadata": {},
   "outputs": [
    {
     "data": {
      "image/png": "[encoded data removed]",
      "text/latex": [
       "$\\displaystyle y^{2} + z^{2}$"
      ],
      "text/plain": [
       " 2    2\n",
       "y  + z "
      ]
     },
     "execution_count": 43,
     "metadata": {},
     "output_type": "execute_result"
    }
   ],
   "source": [
    "tmp2.coeff(Lx**2)"
   ]
  }
 ],
 "metadata": {
  "anaconda-cloud": {},
  "celltoolbar": "Slideshow",
  "kernelspec": {
   "display_name": "Python 3",
   "language": "python",
   "name": "python3"
  },
  "language_info": {
   "codemirror_mode": {
    "name": "ipython",
    "version": 3
   },
   "file_extension": ".py",
   "mimetype": "text/x-python",
   "name": "python",
   "nbconvert_exporter": "python",
   "pygments_lexer": "ipython3",
   "version": "3.6.9"
  },
  "latex_envs": {
   "bibliofile": "biblio.bib",
   "cite_by": "apalike",
   "current_citInitial": 1,
   "eqLabelWithNumbers": true,
   "eqNumInitial": 0
  },
  "nav_menu": {},
  "toc": {
   "base_numbering": 1,
   "nav_menu": {},
   "number_sections": true,
   "sideBar": true,
   "skip_h1_title": false,
   "title_cell": "Kazalo",
   "title_sidebar": "Kazalo",
   "toc_cell": false,
   "toc_position": {},
   "toc_section_display": "block",
   "toc_window_display": false
  }
 },
 "nbformat": 4,
 "nbformat_minor": 4
}
