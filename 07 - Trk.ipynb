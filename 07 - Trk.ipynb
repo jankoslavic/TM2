{
 "cells": [
  {
   "cell_type": "markdown",
   "metadata": {
    "slideshow": {
     "slide_type": "slide"
    }
   },
   "source": [
    "# Trk\n",
    "Prof. dr. Janko Slavič, Univerza v Ljubljani, Fakulteta za strojništvo\n",
    "\n",
    "## Izpeljava enačb centričnega premega trka"
   ]
  },
  {
   "cell_type": "code",
   "execution_count": 74,
   "metadata": {
    "slideshow": {
     "slide_type": "subslide"
    }
   },
   "outputs": [],
   "source": [
    "import sympy as sym\n",
    "from sympy.solvers.solveset import linsolve\n",
    "import numpy as np\n",
    "import matplotlib.pyplot as plt\n",
    "%matplotlib inline\n",
    "sym.init_printing()"
   ]
  },
  {
   "cell_type": "markdown",
   "metadata": {},
   "source": [
    "Če uporabite Google Colab, potem odkomentirajte (odstranite #) spodnje vrstice in jih sprožite:"
   ]
  },
  {
   "cell_type": "code",
   "execution_count": 3,
   "metadata": {},
   "outputs": [],
   "source": [
    "#def custom_latex_printer(exp,**options):\n",
    "#    from google.colab.output._publish import javascript\n",
    "#    url = \"https://cdnjs.cloudflare.com/ajax/libs/mathjax/2.7.3/latest.js?config=default\"\n",
    "#    javascript(url=url)\n",
    "#    return sym.printing.latex(exp,**options)\n",
    "#sym.init_printing(use_latex=\"mathjax\",latex_printer=custom_latex_printer)"
   ]
  },
  {
   "cell_type": "markdown",
   "metadata": {
    "slideshow": {
     "slide_type": "subslide"
    }
   },
   "source": [
    "Definirajmo simbole (1-prva masa, 2-druga masa, a-začetek kompresije, b-konec kompresije, c-konec ekspanzije):"
   ]
  },
  {
   "cell_type": "code",
   "execution_count": 73,
   "metadata": {},
   "outputs": [],
   "source": [
    "v_1a, v_2a, v_12b, v_1c, v_2c, m_1, m_2, ϵ = sym.symbols('\\\n",
    "v_1a, v_2a, v_12b, v_1c, v_2c, m_1, m_2, varepsilon')"
   ]
  },
  {
   "cell_type": "markdown",
   "metadata": {},
   "source": [
    "Ker ni zunanjih sil, se gibalna količina od začetka kompresije (`a`) do konca kompresije (`b`) ne spremeni:"
   ]
  },
  {
   "cell_type": "code",
   "execution_count": 75,
   "metadata": {},
   "outputs": [
    {
     "data": {
      "image/png": "[encoded data removed]",
      "text/latex": [
       "$\\displaystyle m_{1} v_{1a} + m_{2} v_{2a} = m_{1} v_{12b} + m_{2} v_{12b}$"
      ],
      "text/plain": [
       "m₁⋅v₁ₐ + m₂⋅v₂ₐ = m₁⋅v_12b + m₂⋅v_12b"
      ]
     },
     "execution_count": 75,
     "metadata": {},
     "output_type": "execute_result"
    }
   ],
   "source": [
    "a = sym.Eq(m_1*v_1a + m_2*v_2a, (m_1*v_12b + m_2*v_12b))\n",
    "a"
   ]
  },
  {
   "cell_type": "markdown",
   "metadata": {},
   "source": [
    "Ker ni zunanjih sil, se tudi gibalna količina od začetka kompresije (`a`) do konca ekspanzije (`c`) ne spremeni:"
   ]
  },
  {
   "cell_type": "code",
   "execution_count": 76,
   "metadata": {},
   "outputs": [
    {
     "data": {
      "image/png": "[encoded data removed]",
      "text/latex": [
       "$\\displaystyle m_{1} v_{1a} + m_{2} v_{2a} = m_{1} v_{1c} + m_{2} v_{2c}$"
      ],
      "text/plain": [
       "m₁⋅v₁ₐ + m₂⋅v₂ₐ = m₁⋅v_1c + m₂⋅v_2c"
      ]
     },
     "execution_count": 76,
     "metadata": {},
     "output_type": "execute_result"
    }
   ],
   "source": [
    "b = sym.Eq(m_1*v_1a + m_2*v_2a, (m_1*v_1c + m_2*v_2c))\n",
    "b"
   ]
  },
  {
   "cell_type": "markdown",
   "metadata": {},
   "source": [
    "Dodati je potreba že Poissonov zakon trka, ki poveže fazo kompresije in ekspanzije:"
   ]
  },
  {
   "cell_type": "code",
   "execution_count": 77,
   "metadata": {},
   "outputs": [
    {
     "data": {
      "image/png": "[encoded data removed]",
      "text/latex": [
       "$\\displaystyle - m_{1} \\varepsilon \\left(v_{12b} - v_{1a}\\right) = - m_{1} \\left(- v_{12b} + v_{1c}\\right)$"
      ],
      "text/plain": [
       "-m₁⋅varepsilon⋅(v_12b - v₁ₐ) = -m₁⋅(-v_12b + v_1c)"
      ]
     },
     "execution_count": 77,
     "metadata": {},
     "output_type": "execute_result"
    }
   ],
   "source": [
    "I_k = - m_1*(v_12b-v_1a)\n",
    "I_e = - m_1*(v_1c-v_12b)\n",
    "c = sym.Eq(ϵ*I_k, I_e)\n",
    "c"
   ]
  },
  {
   "cell_type": "markdown",
   "metadata": {},
   "source": [
    "In rešimo sistem linearnih enačb:"
   ]
  },
  {
   "cell_type": "code",
   "execution_count": 79,
   "metadata": {},
   "outputs": [
    {
     "data": {
      "image/png": "[encoded data removed]",
      "text/latex": [
       "$\\displaystyle \\left\\{\\left( \\frac{- v_{1a} \\varepsilon \\left(m_{1} + m_{2}\\right) + \\left(\\varepsilon + 1\\right) \\left(m_{1} v_{1a} + m_{2} v_{2a}\\right)}{m_{1} + m_{2}}, \\  \\frac{m_{1} v_{1a} \\varepsilon + m_{1} v_{1a} - m_{1} v_{2a} \\varepsilon + m_{2} v_{2a}}{m_{1} + m_{2}}, \\  \\frac{m_{1} v_{1a} + m_{2} v_{2a}}{m_{1} + m_{2}}\\right)\\right\\}$"
      ],
      "text/plain": [
       "⎧⎛-v₁ₐ⋅varepsilon⋅(m₁ + m₂) + (varepsilon + 1)⋅(m₁⋅v₁ₐ + m₂⋅v₂ₐ)  m₁⋅v₁ₐ⋅varep\n",
       "⎨⎜──────────────────────────────────────────────────────────────, ────────────\n",
       "⎩⎝                           m₁ + m₂                                          \n",
       "\n",
       "silon + m₁⋅v₁ₐ - m₁⋅v₂ₐ⋅varepsilon + m₂⋅v₂ₐ  m₁⋅v₁ₐ + m₂⋅v₂ₐ⎞⎫\n",
       "───────────────────────────────────────────, ───────────────⎟⎬\n",
       "            m₁ + m₂                              m₁ + m₂    ⎠⎭"
      ]
     },
     "execution_count": 79,
     "metadata": {},
     "output_type": "execute_result"
    }
   ],
   "source": [
    "sol = linsolve([a, b, c], (v_1c, v_2c, v_12b))\n",
    "sol"
   ]
  },
  {
   "cell_type": "markdown",
   "metadata": {},
   "source": [
    "Hitrost prvega telesa po trku torej je:"
   ]
  },
  {
   "cell_type": "code",
   "execution_count": 71,
   "metadata": {},
   "outputs": [
    {
     "data": {
      "image/png": "[encoded data removed]",
      "text/latex": [
       "$\\displaystyle \\frac{m_{1} v_{1a}}{m_{1} + m_{2}} - \\frac{m_{2} v_{1a} \\varepsilon}{m_{1} + m_{2}} + \\frac{m_{2} v_{2a} \\varepsilon}{m_{1} + m_{2}} + \\frac{m_{2} v_{2a}}{m_{1} + m_{2}}$"
      ],
      "text/plain": [
       " m₁⋅v₁ₐ   m₂⋅v₁ₐ⋅varepsilon   m₂⋅v₂ₐ⋅varepsilon    m₂⋅v₂ₐ\n",
       "─────── - ───────────────── + ───────────────── + ───────\n",
       "m₁ + m₂        m₁ + m₂             m₁ + m₂        m₁ + m₂"
      ]
     },
     "execution_count": 71,
     "metadata": {},
     "output_type": "execute_result"
    }
   ],
   "source": [
    "sol.args[0][0].expand()"
   ]
  },
  {
   "cell_type": "markdown",
   "metadata": {},
   "source": [
    "In še hitrost drugega telesa po trku:"
   ]
  },
  {
   "cell_type": "code",
   "execution_count": 72,
   "metadata": {},
   "outputs": [
    {
     "data": {
      "image/png": "[encoded data removed]",
      "text/latex": [
       "$\\displaystyle \\frac{m_{1} v_{1a} \\varepsilon}{m_{1} + m_{2}} + \\frac{m_{1} v_{1a}}{m_{1} + m_{2}} - \\frac{m_{1} v_{2a} \\varepsilon}{m_{1} + m_{2}} + \\frac{m_{2} v_{2a}}{m_{1} + m_{2}}$"
      ],
      "text/plain": [
       "m₁⋅v₁ₐ⋅varepsilon    m₁⋅v₁ₐ   m₁⋅v₂ₐ⋅varepsilon    m₂⋅v₂ₐ\n",
       "───────────────── + ─────── - ───────────────── + ───────\n",
       "     m₁ + m₂        m₁ + m₂        m₁ + m₂        m₁ + m₂"
      ]
     },
     "execution_count": 72,
     "metadata": {},
     "output_type": "execute_result"
    }
   ],
   "source": [
    "sol.args[0][1].expand()"
   ]
  }
 ],
 "metadata": {
  "anaconda-cloud": {},
  "celltoolbar": "Slideshow",
  "kernelspec": {
   "display_name": "Python 3",
   "language": "python",
   "name": "python3"
  },
  "language_info": {
   "codemirror_mode": {
    "name": "ipython",
    "version": 3
   },
   "file_extension": ".py",
   "mimetype": "text/x-python",
   "name": "python",
   "nbconvert_exporter": "python",
   "pygments_lexer": "ipython3",
   "version": "3.6.9"
  },
  "latex_envs": {
   "bibliofile": "biblio.bib",
   "cite_by": "apalike",
   "current_citInitial": 1,
   "eqLabelWithNumbers": true,
   "eqNumInitial": 0
  },
  "nav_menu": {},
  "toc": {
   "base_numbering": 1,
   "nav_menu": {},
   "number_sections": true,
   "sideBar": true,
   "skip_h1_title": false,
   "title_cell": "Kazalo",
   "title_sidebar": "Kazalo",
   "toc_cell": false,
   "toc_position": {},
   "toc_section_display": "block",
   "toc_window_display": false
  }
 },
 "nbformat": 4,
 "nbformat_minor": 4
}
